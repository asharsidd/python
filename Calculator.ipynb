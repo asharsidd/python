{
  "nbformat": 4,
  "nbformat_minor": 0,
  "metadata": {
    "colab": {
      "name": "Calculator.ipynb",
      "provenance": [],
      "collapsed_sections": [],
      "authorship_tag": "ABX9TyN5rIVOWKZ0mntPCr/jROvm",
      "include_colab_link": true
    },
    "kernelspec": {
      "name": "python3",
      "display_name": "Python 3"
    },
    "language_info": {
      "name": "python"
    }
  },
  "cells": [
    {
      "cell_type": "markdown",
      "metadata": {
        "id": "view-in-github",
        "colab_type": "text"
      },
      "source": [
        "<a href=\"https://colab.research.google.com/github/asharsidd/python/blob/main/Calculator.ipynb\" target=\"_parent\"><img src=\"https://colab.research.google.com/assets/colab-badge.svg\" alt=\"Open In Colab\"/></a>"
      ]
    },
    {
      "cell_type": "code",
      "metadata": {
        "colab": {
          "base_uri": "https://localhost:8080/"
        },
        "id": "Axmt2-2RG2cO",
        "outputId": "6faccea1-acdc-454c-d686-eebcfdf248c3"
      },
      "source": [
        "import re\n",
        "print(\"Welcome to the Calculator\")\n",
        "print(\"Type 'quit' to exit\")\n",
        "\n",
        "previous = 0\n",
        "run = True\n",
        "\n",
        "def performMath():\n",
        "    global run\n",
        "    global previous\n",
        "    equation = \"\"\n",
        "    if previous == 0:\n",
        "        equation = input(\"Enter equation:\")\n",
        "    else:\n",
        "        equation = input(str(previous))\n",
        "    \n",
        "    if equation == 'quit':\n",
        "        print(\"\\nGoodbye!\")\n",
        "        run = False\n",
        "    else:\n",
        "        equation = re.sub('[a-zA-Z,.:;()\" \"]', '0', equation)\n",
        "        try:            \n",
        "            if previous== 0:\n",
        "                previous = eval(equation)\n",
        "            else:\n",
        "                previous = eval(str(previous) + equation)\n",
        "        except ZeroDivisionError:\n",
        "            print(\"Divide by Null - Infinity - Continue Calculation or Enter 'quit' to Exit!\")\n",
        "        except SyntaxError:\n",
        "            print(\"Syntax Error! Please add digits and operators without space or Enter 'quit' to Exit!\")           \n",
        "\n",
        "while run:\n",
        "    performMath()"
      ],
      "execution_count": 1,
      "outputs": [
        {
          "output_type": "stream",
          "name": "stdout",
          "text": [
            "Welcome to the Calculator\n",
            "Type 'quit' to exit\n",
            "Enter equation:5*4+6\n",
            "26*56\n",
            "1456+67\n",
            "1523quit\n",
            "\n",
            "Goodbye!\n"
          ]
        }
      ]
    }
  ]
}