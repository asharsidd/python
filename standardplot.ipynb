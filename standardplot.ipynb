{
 "cells": [
  {
   "cell_type": "code",
   "execution_count": null,
   "metadata": {},
   "outputs": [],
   "source": [
    "import matplotlib.pyplot as plt\n",
    "import numpy as np\n",
    "\n",
    "x = np.linspace(0, 50, 100)  # Create a list of evenly-spaced numbers over the range\n",
    "plt.plot(x, np.sin(x))       # Plot the sine of each x point\n",
    "plt.show()                   # Display the plot"
   ]
  },
  {
   "cell_type": "code",
   "execution_count": null,
   "metadata": {},
   "outputs": [
    {
     "name": "stdout",
     "output_type": "stream",
     "text": [
      "10\n"
     ]
    }
   ],
   "source": [
    "a=2\n",
    "b=5\n",
    "c=a*b\n",
    "print(c)"
   ]
  },
  {
   "cell_type": "code",
   "execution_count": null,
   "metadata": {},
   "outputs": [
    {
     "name": "stdout",
     "output_type": "stream",
     "text": [
      "What is your name: \n",
      "Hello Ashar you have a nice day\n"
     ]
    }
   ],
   "source": [
    "print(\"What is your name: \")\n",
    "name = input()\n",
    "print(\"Hello\" + \" \" + name + \" \" + \"you have a nice day\")"
   ]
  },
  {
   "cell_type": "code",
   "execution_count": null,
   "metadata": {},
   "outputs": [
    {
     "name": "stdout",
     "output_type": "stream",
     "text": [
      "Time to Birthday is :272 days\n"
     ]
    }
   ],
   "source": [
    "from datetime import datetime\n",
    "from datetime import date\n",
    "import time\n",
    "\n",
    "today = date.today()\n",
    "\n",
    "\n",
    "def user_birthday():\n",
    "    year = int(input('When is your birthday? [YY] '))\n",
    "    month = int(input('When is your birthday? [MM] '))\n",
    "    day = int(input('When is your birthday? [DD] '))\n",
    "\n",
    "    birthday = datetime(year,month,day)\n",
    "    return birthday\n",
    "\n",
    "def calculate_dates(birthday):\n",
    "    today == date.fromtimestamp(time.time())\n",
    "    birthday = date(today.year, birthday.month, birthday.day)\n",
    "    if birthday < today:\n",
    "        birthday = birthday.replace(year=today.year + 1)\n",
    "        return birthday\n",
    "    else:\n",
    "        return birthday\n",
    "    \n",
    "\n",
    "\n",
    "bday = user_birthday()\n",
    "t = calculate_dates(bday)\n",
    "time_to_birthday = abs(t-today)\n",
    "days=str(time_to_birthday.days)\n",
    "print(\"Time to Birthday is :\" + days + \" days\")"
   ]
  },
  {
   "cell_type": "code",
   "execution_count": null,
   "metadata": {},
   "outputs": [
    {
     "name": "stdout",
     "output_type": "stream",
     "text": [
      "Hello World!\n",
      "Hello World!\n",
      "Hello World!\n"
     ]
    }
   ],
   "source": [
    "print(\"Hello World!\\nHello World!\\nHello World!\")\n"
   ]
  },
  {
   "cell_type": "code",
   "execution_count": null,
   "metadata": {},
   "outputs": [],
   "source": [
    "print(\"Day 1 - String Manipulation\")\n",
    "print('String Concatenation is done with the \"+\"sign.')\n",
    "print('e.g. print(\"Hello \" + \"world\")')\n",
    "print(\"New lines can be created with a backslash and n.\")"
   ]
  },
  {
   "cell_type": "code",
   "execution_count": null,
   "metadata": {},
   "outputs": [
    {
     "name": "stdout",
     "output_type": "stream",
     "text": [
      "5 15\n",
      "15 5\n"
     ]
    }
   ],
   "source": [
    "a = 5\n",
    "b = 15\n",
    "print (a, b)\n",
    "a,b = b, a\n",
    "print (a, b)\n"
   ]
  },
  {
   "cell_type": "code",
   "execution_count": null,
   "metadata": {},
   "outputs": [],
   "source": [
    "import pandas as pd\n",
    "import os\n",
    "\n",
    "#my_columns = ['show_id','type', 'title', 'director', 'cast']\n",
    "\n",
    "#print(os.getcwd())\n",
    "#print(os.listdir(os.getcwd()))\n",
    "\n",
    "df = pd.read_csv('netflix_titles.csv')\n",
    "df.head()"
   ]
  },
  {
   "cell_type": "code",
   "execution_count": null,
   "metadata": {},
   "outputs": [],
   "source": [
    "import csv\n",
    "import codecs\n",
    "import requests\n",
    "\n",
    "response = requests.get('https://raw.githubusercontent.com/asharsidd/python/main/netflix_titles.csv')\n",
    "r = response.iter_lines()\n",
    "\n",
    "reader = csv.reader(codecs.iterdecode(r, 'utf-8'))\n",
    "for row in reader:\n",
    "    print(row[2], end='\\t')                   #giving the name of the movie\n",
    "    print(row[10])                            #giving the Genre of the movie in same row"
   ]
  },
  {
   "cell_type": "markdown",
   "metadata": {},
   "source": [
    "Web Scrapping using Beautiful Soup"
   ]
  },
  {
   "cell_type": "code",
   "execution_count": null,
   "metadata": {},
   "outputs": [],
   "source": [
    "import requests\n",
    "from bs4 import BeautifulSoup\n",
    "\n",
    "response = requests.get('https://www.crummy.com/software/BeautifulSoup/bs4/doc/')\n",
    "print(response.text)\n",
    "\n",
    "soup = BeautifulSoup(response.text, 'html.parser')\n",
    "print(soup.title.parent.name)"
   ]
  },
  {
   "cell_type": "code",
   "execution_count": null,
   "metadata": {},
   "outputs": [],
   "source": [
    "employee_number = \"\"\n",
    "parts = \"\"\n",
    "valid = False\n",
    "\n",
    "while employee_number !=\"sentinel\" and valid is False:\n",
    "    employee_number = input(\"Enter employee number (ddd-dd-dddd): \")\n",
    "    parts = employee_number.split('-')\n",
    "    if len(parts) == 3:\n",
    "        if len(parts[0]) ==3 and len(parts[1]) ==2 and len(parts[2]) ==4:\n",
    "            if parts[0].isdigit and parts[1].isdigit() and parts[2].isdigit():\n",
    "                valid = True\n",
    "                print(\"Thanks for Entering the Employee number!\")\n",
    "                break\n",
    "            else:\n",
    "             continue\n",
    "        else:\n",
    "            continue\n",
    "    else:\n",
    "        continue\n",
    "\n",
    "\n"
   ]
  },
  {
   "cell_type": "markdown",
   "metadata": {},
   "source": [
    "Print prime numbers between 2 and 100"
   ]
  },
  {
   "cell_type": "code",
   "execution_count": 14,
   "metadata": {},
   "outputs": [
    {
     "name": "stdout",
     "output_type": "stream",
     "text": [
      "2\n",
      "3\n",
      "5\n",
      "7\n",
      "11\n",
      "13\n",
      "17\n",
      "19\n",
      "23\n",
      "29\n",
      "31\n",
      "37\n",
      "41\n",
      "43\n",
      "47\n",
      "53\n",
      "59\n",
      "61\n",
      "67\n",
      "71\n",
      "73\n",
      "79\n",
      "83\n",
      "89\n",
      "97\n"
     ]
    }
   ],
   "source": [
    "p=2\n",
    "while p<=100:\n",
    "    isPrime = True\n",
    "    for i in range(2,p):\n",
    "        if p % i == 0:\n",
    "            isPrime = False\n",
    "            break\n",
    "    if isPrime:\n",
    "        print(p)\n",
    "    p+=1"
   ]
  },
  {
   "cell_type": "code",
   "execution_count": 17,
   "metadata": {},
   "outputs": [
    {
     "name": "stdout",
     "output_type": "stream",
     "text": [
      "7\n"
     ]
    }
   ],
   "source": [
    "items = int(float(input('Enter a number: ')))\n",
    "print(items)"
   ]
  },
  {
   "cell_type": "code",
   "execution_count": 20,
   "metadata": {},
   "outputs": [
    {
     "name": "stdout",
     "output_type": "stream",
     "text": [
      "202020\n",
      "<class 'str'>\n"
     ]
    }
   ],
   "source": [
    "x1 = \"20\"\n",
    "y1 = 3\n",
    "a = x1 * y1\n",
    "print(a)\n",
    "print(type(a))"
   ]
  },
  {
   "cell_type": "code",
   "execution_count": null,
   "metadata": {},
   "outputs": [],
   "source": [
    "import requests\n",
    "from bs4 import BeautifulSoup\n",
    "\n",
    "response = requests.get('https://en.wikipedia.org/wiki/Mercedes-Benz')\n",
    "soup = BeautifulSoup(response.text, 'html.parser')\n",
    "soup.find_all('img')"
   ]
  },
  {
   "cell_type": "code",
   "execution_count": null,
   "metadata": {},
   "outputs": [],
   "source": [
    "from IPython.core.display import Image, display\n",
    "import requests\n",
    "from bs4 import BeautifulSoup\n",
    "from IPython.display import Image\n",
    "\n",
    "response = requests.get('https://en.wikipedia.org/wiki/Mercedes-Benz')\n",
    "\n",
    "soup = BeautifulSoup(response.text, 'html.parser')\n",
    "for img in soup.find_all('img'):\n",
    "    src = 'https:'\n",
    "    full_img = src + img['src']\n",
    "    try:\n",
    "        display(Image(full_img))\n",
    "    except Exception:\n",
    "        continue\n"
   ]
  },
  {
   "cell_type": "code",
   "execution_count": 26,
   "metadata": {},
   "outputs": [
    {
     "data": {
      "image/jpeg": "[encoded data removed]",
      "text/plain": [
       "<IPython.core.display.Image object>"
      ]
     },
     "execution_count": 26,
     "metadata": {},
     "output_type": "execute_result"
    }
   ],
   "source": [
    "from IPython.display import Image\n",
    "Image('https://upload.wikimedia.org/wikipedia/commons/thumb/1/18/Mercedes-Benz_W206_IMG_4869.jpg/200px-Mercedes-Benz_W206_IMG_4869.jpg')"
   ]
  },
  {
   "cell_type": "code",
   "execution_count": null,
   "metadata": {},
   "outputs": [],
   "source": [
    "from IPython.core.display import Image, display\n",
    "import requests\n",
    "from bs4 import BeautifulSoup\n",
    "from IPython.display import Image\n",
    "\n",
    "response = requests.get('https://en.wikipedia.org/wiki/Mercedes-Benz')\n",
    "\n",
    "soup = BeautifulSoup(response.text, 'html.parser')\n",
    "for img in soup.find_all('img')[:6]:\n",
    "    src = 'https:'\n",
    "    full_img = src + img['src']\n",
    "    if full_img.endswith('jpg'):\n",
    "        display(Image(full_img, width=150))\n",
    "    "
   ]
  },
  {
   "cell_type": "code",
   "execution_count": null,
   "metadata": {},
   "outputs": [],
   "source": [
    "from IPython.core.display import Image, display\n",
    "import requests\n",
    "import mimetypes\n",
    "from bs4 import BeautifulSoup\n",
    "from IPython.display import Image\n",
    "\n",
    "response = requests.get('https://en.wikipedia.org/wiki/Mercedes-Benz')\n",
    "\n",
    "soup = BeautifulSoup(response.text, 'html.parser')\n",
    "for img in soup.find_all('img')[:6]:\n",
    "    src = 'https:'\n",
    "    full_img = src + img['src']\n",
    "    mimetype = mimetypes.guess_type(full_img)\n",
    "    print(mimetype)\n",
    "    if mimetype[0] == 'image/jpeg':\n",
    "        display(Image(full_img, width=150))"
   ]
  },
  {
   "cell_type": "markdown",
   "metadata": {},
   "source": [
    "Final Web Scrapper for Images from any wiki web address"
   ]
  },
  {
   "cell_type": "code",
   "execution_count": null,
   "metadata": {},
   "outputs": [],
   "source": [
    "from IPython.core.display import Image, display\n",
    "import requests\n",
    "import mimetypes\n",
    "from bs4 import BeautifulSoup\n",
    "from IPython.display import Image\n",
    "\n",
    "def print_images(url, start=None, stop=None):\n",
    "    response = requests.get(url)\n",
    "\n",
    "    soup = BeautifulSoup(response.text, 'html.parser')\n",
    "    for img in soup.find_all('img')[start:stop]:\n",
    "        src = 'https:'\n",
    "        if img['src'].startswith('//'):\n",
    "            full_img = src + img['src']\n",
    "        else:\n",
    "            full_img = 'https://en.wikepedia.org' + img['src']        \n",
    "        mimetype = mimetypes.guess_type(full_img)\n",
    "        if mimetype[0] is None:\n",
    "            continue\n",
    "        if mimetype[0] == 'image/jpeg':\n",
    "            display(Image(full_img, width=150))\n",
    "\n",
    "url = input('Enter a Web address to Scrap Images off it: ')\n",
    "print_images(url)"
   ]
  },
  {
   "cell_type": "markdown",
   "metadata": {},
   "source": [
    "Using urllib *"
   ]
  },
  {
   "cell_type": "code",
   "execution_count": null,
   "metadata": {},
   "outputs": [],
   "source": [
    "from IPython.core.display import Image, display\n",
    "import requests\n",
    "import mimetypes\n",
    "from bs4 import BeautifulSoup\n",
    "from IPython.display import Image\n",
    "from urllib.parse import urljoin\n",
    "\n",
    "def print_images(url, start=None, stop=None):\n",
    "    response = requests.get(url)\n",
    "\n",
    "    soup = BeautifulSoup(response.text, 'html.parser')\n",
    "    for img in soup.find_all('img')[start:stop]:\n",
    "        full_img = urljoin(url, img['src'])\n",
    "        print(full_img)\n",
    "        mimetype = mimetypes.guess_type(full_img)\n",
    "        if mimetype[0] is None:\n",
    "            continue\n",
    "        print(mimetype[0])\n",
    "        if mimetype[0] in ['image/jpeg', 'image/png', 'image/gif']:\n",
    "            display(Image(full_img, width=150))\n",
    "\n",
    "url = input('Enter a Web address to Scrap Images off it: ')\n",
    "print_images(url)"
   ]
  },
  {
   "cell_type": "code",
   "execution_count": 44,
   "metadata": {},
   "outputs": [
    {
     "data": {
      "text/plain": [
       "('image/jpeg', None)"
      ]
     },
     "execution_count": 44,
     "metadata": {},
     "output_type": "execute_result"
    }
   ],
   "source": [
    "import mimetypes\n",
    "mimetypes.guess_type(full_img)"
   ]
  },
  {
   "cell_type": "code",
   "execution_count": null,
   "metadata": {},
   "outputs": [],
   "source": [
    "import instaloader\n",
    "ig = instaloader.instaloader\n",
    "dp = input(\"Enter Insta Username: \")\n",
    "\n",
    "ig.download_profile(dp, profile_pic_only=True)\n"
   ]
  },
  {
   "cell_type": "markdown",
   "metadata": {},
   "source": [
    "To print out the PATH variable details"
   ]
  },
  {
   "cell_type": "code",
   "execution_count": null,
   "metadata": {},
   "outputs": [],
   "source": [
    "import os\n",
    "path = os.getenv('PATH')\n",
    "print(path)"
   ]
  },
  {
   "cell_type": "code",
   "execution_count": 14,
   "metadata": {},
   "outputs": [
    {
     "name": "stdout",
     "output_type": "stream",
     "text": [
      "Number of times you typed 'Tom' is 2\n"
     ]
    }
   ],
   "source": [
    "import re\n",
    "y = 0\n",
    "list1 = input(\"Enter a scentence: \").lower()\n",
    "list1 = (re.sub('[,.:;()\" \"]', ' ', list1)).split()\n",
    "for x in list1:\n",
    "    if x == 'tom':\n",
    "        y+=1\n",
    "    else:\n",
    "        continue\n",
    "\n",
    "print(f\"Number of times you typed 'Tom' is {y}\")"
   ]
  },
  {
   "cell_type": "code",
   "execution_count": 37,
   "metadata": {},
   "outputs": [
    {
     "name": "stdout",
     "output_type": "stream",
     "text": [
      "['1', '3', '4', '5', '6']\n",
      "<class 'list'>\n",
      "[1, 3, 4, 5, 6]\n",
      "<class 'list'>\n",
      "The total multiplied figure for [1, 3, 4, 5, 6] is 360\n"
     ]
    }
   ],
   "source": [
    "from functools import reduce\n",
    "list1 = input(\"Enter the digits seperated by a ',': \").split(',')\n",
    "list2 = [int(i) for i in list1]\n",
    "print(list1)      #str type\n",
    "print(type(list1))\n",
    "print(list2)         #int type\n",
    "print(type(list2))\n",
    "\n",
    "\n",
    "result = reduce(lambda a,b: a*b, list2)      #passing int type so it can multiply\n",
    "print(f\"The total multiplied figure for {list2} is {result}\")"
   ]
  },
  {
   "cell_type": "code",
   "execution_count": 36,
   "metadata": {},
   "outputs": [
    {
     "name": "stdout",
     "output_type": "stream",
     "text": [
      "['1', '3', '4', '5', '6']\n",
      "<class 'list'>\n",
      "[1, 3, 4, 5, 6]\n",
      "<class 'list'>\n",
      "The total multiplied figure for [1, 3, 4, 5, 6] is 360\n"
     ]
    }
   ],
   "source": [
    "from functools import reduce\n",
    "list1 = input(\"Enter the digits seperated by a ',': \").split(',')\n",
    "list2 = list(map(int, list1))           #using the map func to convert str to int\n",
    "print(list1)      #str type\n",
    "print(type(list1))\n",
    "print(list2)         #int type\n",
    "print(type(list2))\n",
    "\n",
    "\n",
    "result = reduce(lambda a,b: a*b, list2)      #passing int type so it can multiply\n",
    "print(f\"The total multiplied figure for {list2} is {result}\")"
   ]
  },
  {
   "cell_type": "code",
   "execution_count": 1,
   "metadata": {},
   "outputs": [
    {
     "name": "stdout",
     "output_type": "stream",
     "text": [
      "[ 1  9 16 25 36]\n"
     ]
    }
   ],
   "source": [
    "import numpy as np\n",
    "data = np.array([1,3,4,5,6])\n",
    "data1 = np.array([1,3,4,5,6])\n",
    "\n",
    "#print(data)\n",
    "print(np.multiply(data, data1))"
   ]
  },
  {
   "cell_type": "code",
   "execution_count": 68,
   "metadata": {},
   "outputs": [
    {
     "name": "stdout",
     "output_type": "stream",
     "text": [
      "2021-12-15 23:41:41.751132\n",
      "2022-01-01 00:00:00\n",
      "Time until 2022: 16 days, 0:18:18.248868\n",
      "16 0 18 18 248868\n"
     ]
    }
   ],
   "source": [
    "from datetime import datetime\n",
    "now = datetime.now()\n",
    "print(now)\n",
    "\n",
    "future = datetime(2022,1,1)\n",
    "print(future)\n",
    "\n",
    "time_dif = future-now\n",
    "print(f\"Time until 2022: {time_dif}\")\n",
    "\n",
    "hours = time_dif.seconds // 3600\n",
    "minutes = time_dif.seconds % 3600 // 60\n",
    "seconds = time_dif.seconds - (hours * 3600) - (minutes * 60)\n",
    "\n",
    "print(time_dif.days, hours, minutes, seconds, time_dif.microseconds)\n"
   ]
  },
  {
   "cell_type": "code",
   "execution_count": 2,
   "metadata": {},
   "outputs": [
    {
     "name": "stdout",
     "output_type": "stream",
     "text": [
      "2021-12-25T01:52:20.674368+00:00\n"
     ]
    }
   ],
   "source": [
    "import pendulum\n",
    "\n",
    "now = pendulum.now('Europe/London')\n",
    "print(now)\n",
    "\n",
    "# Changing timezone\n",
    "#now.in_timezone(\"America/Toronto\")\n",
    "\n",
    "# Default support for common datetime formats\n",
    "#now.to_iso8601_string()\n",
    "\n",
    "# Shifting\n",
    "#now.add(days=2)"
   ]
  },
  {
   "cell_type": "code",
   "execution_count": 19,
   "metadata": {},
   "outputs": [
    {
     "name": "stdout",
     "output_type": "stream",
     "text": [
      "{'David': {'chemistry': [87, 78, 98, 65],\n",
      "           'history': [76, 46, 87, 34],\n",
      "           'math': [90, 76, 56, 87],\n",
      "           'physics': [56, 66, 88, 65]},\n",
      " 'Maria': {'chemistry': [56, 45, 38, 65],\n",
      "           'history': [76, 46, 87, 34],\n",
      "           'math': [74, 76, 36, 67],\n",
      "           'physics': [54, 65, 78, 65]},\n",
      " 'Stefan': {'chemistry': [87, 78, 98, 65],\n",
      "            'history': [76, 46, 87, 34],\n",
      "            'math': [40, 76, 66, 37],\n",
      "            'physics': [57, 36, 68, 85]}}\n"
     ]
    }
   ],
   "source": [
    "from pprint import pprint\n",
    "\n",
    "grades = {\n",
    "    'David': {\n",
    "        'math' : [90, 76, 56, 87],\n",
    "        'physics': [56, 66, 88, 65],\n",
    "        'chemistry': [87, 78, 98, 65],\n",
    "        'history': [76, 46, 87, 34]    \n",
    "    },\n",
    "    'Maria': {\n",
    "        'math' : [74, 76, 36, 67],\n",
    "        'physics': [54, 65, 78, 65],\n",
    "        'chemistry': [56, 45, 38, 65],\n",
    "        'history': [76, 46, 87, 34]         \n",
    "    },\n",
    "    'Stefan': {\n",
    "        'math' : [40, 76, 66, 37],\n",
    "        'physics': [57, 36, 68, 85],\n",
    "        'chemistry': [87, 78, 98, 65],\n",
    "        'history': [76, 46, 87, 34] \n",
    "    }\n",
    "}\n",
    "\n",
    "pprint(grades)"
   ]
  },
  {
   "cell_type": "code",
   "execution_count": 20,
   "metadata": {},
   "outputs": [
    {
     "name": "stdout",
     "output_type": "stream",
     "text": [
      "{'math': [90, 76, 56, 87], 'physics': [56, 66, 88, 65], 'chemistry': [87, 78, 98, 65], 'history': [76, 46, 87, 34]}\n"
     ]
    }
   ],
   "source": [
    "print(grades.get('David'))"
   ]
  },
  {
   "cell_type": "code",
   "execution_count": 26,
   "metadata": {},
   "outputs": [
    {
     "name": "stdout",
     "output_type": "stream",
     "text": [
      "David [90, 76, 56, 87]\n",
      "Maria [74, 76, 36, 67]\n",
      "Stefan [40, 76, 66, 37]\n"
     ]
    }
   ],
   "source": [
    "for name in grades:\n",
    "    print(name, grades.get(name).get('math'))"
   ]
  },
  {
   "cell_type": "code",
   "execution_count": 6,
   "metadata": {},
   "outputs": [
    {
     "name": "stdout",
     "output_type": "stream",
     "text": [
      "{\n",
      "    \"1\": {\n",
      "        \"math\": [\n",
      "            90,\n",
      "            76,\n",
      "            56,\n",
      "            87\n",
      "        ],\n",
      "        \"physics\": [\n",
      "            56,\n",
      "            66,\n",
      "            88,\n",
      "            65\n",
      "        ],\n",
      "        \"chemistry\": [\n",
      "            87,\n",
      "            78,\n",
      "            98,\n",
      "            65\n",
      "        ],\n",
      "        \"history\": [\n",
      "            76,\n",
      "            46,\n",
      "            87,\n",
      "            34\n",
      "        ]\n",
      "    },\n",
      "    \"2\": {\n",
      "        \"math\": [\n",
      "            74,\n",
      "            76,\n",
      "            36,\n",
      "            67\n",
      "        ],\n",
      "        \"physics\": [\n",
      "            54,\n",
      "            65,\n",
      "            78,\n",
      "            65\n",
      "        ],\n",
      "        \"chemistry\": [\n",
      "            56,\n",
      "            45,\n",
      "            38,\n",
      "            65\n",
      "        ],\n",
      "        \"history\": [\n",
      "            76,\n",
      "            46,\n",
      "            87,\n",
      "            34\n",
      "        ]\n",
      "    },\n",
      "    \"3\": {\n",
      "        \"math\": [\n",
      "            40,\n",
      "            76,\n",
      "            66,\n",
      "            37\n",
      "        ],\n",
      "        \"physics\": [\n",
      "            57,\n",
      "            36,\n",
      "            68,\n",
      "            85\n",
      "        ],\n",
      "        \"chemistry\": [\n",
      "            87,\n",
      "            78,\n",
      "            98,\n",
      "            65\n",
      "        ],\n",
      "        \"history\": [\n",
      "            76,\n",
      "            46,\n",
      "            87,\n",
      "            34\n",
      "        ]\n",
      "    }\n",
      "}\n"
     ]
    }
   ],
   "source": [
    "import json\n",
    "\n",
    "print(json.dumps(grades, indent = 4))"
   ]
  },
  {
   "cell_type": "code",
   "execution_count": 8,
   "metadata": {},
   "outputs": [],
   "source": [
    "with open('data.json', 'w', encoding='utf-8') as f:\n",
    "    json.dump(grades, f, ensure_ascii=False, indent=4)"
   ]
  },
  {
   "cell_type": "code",
   "execution_count": 10,
   "metadata": {},
   "outputs": [
    {
     "name": "stdout",
     "output_type": "stream",
     "text": [
      "<class 'dict'>\n",
      "{'1': {'chemistry': [87, 78, 98, 65],\n",
      "       'history': [76, 46, 87, 34],\n",
      "       'math': [90, 76, 560, 87],\n",
      "       'physics': [56, 66, 88, 65]},\n",
      " '2': {'chemistry': [56, 45, 38, 65],\n",
      "       'history': [76, 46, 87, 34],\n",
      "       'math': [74, 76, 36, 67],\n",
      "       'physics': [54, 65, 78, 65]},\n",
      " '3': {'chemistry': [87, 78, 98, 65],\n",
      "       'history': [76, 46, 87, 34],\n",
      "       'math': [40, 76, 66, 37],\n",
      "       'physics': [57, 36, 68, 85]}}\n"
     ]
    }
   ],
   "source": [
    "with open('data.json') as f:\n",
    "    grades = json.load(f)\n",
    "\n",
    "print(type(grades))\n",
    "pprint(grades)"
   ]
  },
  {
   "cell_type": "code",
   "execution_count": 27,
   "metadata": {},
   "outputs": [
    {
     "name": "stdout",
     "output_type": "stream",
     "text": [
      "-1540239428571429076\n"
     ]
    }
   ],
   "source": [
    "a= 'Eric Cantona'\n",
    "print(hash(a))"
   ]
  },
  {
   "cell_type": "code",
   "execution_count": 10,
   "metadata": {},
   "outputs": [
    {
     "name": "stdout",
     "output_type": "stream",
     "text": [
      "[1, 2, 3, 4, 5, 6, 7, 8, 9]\n",
      "{0: 0.0, 1: 1.0, 2: 1.4142135623730951, 3: 1.7320508075688772, 4: 2.0, 5: 2.23606797749979, 6: 2.449489742783178, 7: 2.6457513110645907, 8: 2.8284271247461903, 9: 3.0}\n"
     ]
    }
   ],
   "source": [
    "data = [1,2,3], [4,5,6], [7,8,9]\n",
    "flat = [mem for j in data for mem in j ]\n",
    "print(flat)\n",
    "\n",
    "import math\n",
    "sqrts = {x:math.sqrt(x) for x in range(10)}\n",
    "print(sqrts)"
   ]
  },
  {
   "cell_type": "code",
   "execution_count": 9,
   "metadata": {},
   "outputs": [
    {
     "name": "stdout",
     "output_type": "stream",
     "text": [
      "285\n"
     ]
    }
   ],
   "source": [
    "from functools import reduce\n",
    "#squares = [x**2 for x in range(10)]\n",
    "result = reduce(lambda a,b: a+b, (x**2 for x in range(10)))      #first do the squares and then add it 'em up!\n",
    "print(result)"
   ]
  },
  {
   "cell_type": "code",
   "execution_count": 4,
   "metadata": {},
   "outputs": [
    {
     "name": "stdout",
     "output_type": "stream",
     "text": [
      "['bread', 'milk', 'butter', 'honey']\n"
     ]
    }
   ],
   "source": [
    "list = ['bread', 'milk', 'butter']\n",
    "for i in list:\n",
    "    if i != 'honey':\n",
    "        list.append('honey')\n",
    "        break\n",
    "print(list)"
   ]
  },
  {
   "cell_type": "code",
   "execution_count": 5,
   "metadata": {},
   "outputs": [
    {
     "name": "stdout",
     "output_type": "stream",
     "text": [
      "['bread', 'milk', 'butter', 'honey']\n"
     ]
    }
   ],
   "source": [
    "list = ['bread', 'milk', 'butter']\n",
    "if 'honey' in list:\n",
    "    print(list)\n",
    "else:\n",
    "    list.append('honey')    \n",
    "print(list)"
   ]
  },
  {
   "cell_type": "code",
   "execution_count": 7,
   "metadata": {},
   "outputs": [
    {
     "name": "stdout",
     "output_type": "stream",
     "text": [
      "['bread', 'milk', 'butter', 'honey']\n"
     ]
    }
   ],
   "source": [
    "list = ['bread', 'milk', 'butter']\n",
    "if 'honey' not in list:\n",
    "    list.append('honey')\n",
    "print(list)\n"
   ]
  },
  {
   "cell_type": "code",
   "execution_count": 16,
   "metadata": {},
   "outputs": [
    {
     "name": "stdout",
     "output_type": "stream",
     "text": [
      "['Carrots', 'Olives']\n"
     ]
    }
   ],
   "source": [
    "healthy = ['Carrots', 'Cucumber', 'Olives']\n",
    "backpack = ['Big Mac', 'Carrots', 'Banana', 'Olives', 'KFC Burger']\n",
    "final=[]\n",
    "\n",
    "for y in healthy:\n",
    "    for x in backpack:\n",
    "        if x == y:\n",
    "            final.append(x)\n",
    "print(final)"
   ]
  },
  {
   "cell_type": "code",
   "execution_count": 17,
   "metadata": {},
   "outputs": [
    {
     "name": "stdout",
     "output_type": "stream",
     "text": [
      "['Carrots', 'Olives']\n"
     ]
    }
   ],
   "source": [
    "healthy = ['Carrots', 'Cucumber', 'Olives']\n",
    "backpack = ['Big Mac', 'Carrots', 'Banana', 'Olives', 'KFC Burger']\n",
    "\n",
    "backpack[:] = [item for item in backpack if item in healthy]\n",
    "print(backpack)"
   ]
  },
  {
   "cell_type": "code",
   "execution_count": 23,
   "metadata": {},
   "outputs": [
    {
     "name": "stdout",
     "output_type": "stream",
     "text": [
      "1 bread\n",
      "2 sword\n",
      "2 honey\n",
      "1 rubber duck\n",
      "1 pizza\n"
     ]
    },
    {
     "data": {
      "text/plain": [
       "[None, None, None, None, None]"
      ]
     },
     "execution_count": 23,
     "metadata": {},
     "output_type": "execute_result"
    }
   ],
   "source": [
    "backpack = ['sword', 'rubber duck', 'pizza', 'honey', 'sword', 'honey', 'bread']\n",
    "\n",
    "#counts = [[backpack.count(item), item] for item in set(backpack)]\n",
    "#print(counts)\n",
    "\n",
    "[print(backpack.count(item), item) for item in set(backpack)]\n"
   ]
  },
  {
   "cell_type": "code",
   "execution_count": 24,
   "metadata": {},
   "outputs": [
    {
     "name": "stdout",
     "output_type": "stream",
     "text": [
      "Counter({'sword': 2, 'honey': 2, 'rubber duck': 1, 'pizza': 1, 'bread': 1})\n"
     ]
    }
   ],
   "source": [
    "from collections import Counter\n",
    "backpack = ['sword', 'rubber duck', 'pizza', 'honey', 'sword', 'honey', 'bread']\n",
    "\n",
    "print(Counter(backpack))"
   ]
  },
  {
   "cell_type": "code",
   "execution_count": 35,
   "metadata": {},
   "outputs": [
    {
     "name": "stdout",
     "output_type": "stream",
     "text": [
      "Real price: £149.0, After applying discount of 25.0%: £111.75\n"
     ]
    }
   ],
   "source": [
    "def apply_discount(product, discount):\n",
    "    price = int(product['price'] * (1.0 - discount))\n",
    "    assert 0 <= price <= product['price']\n",
    "    return price\n",
    "\n",
    "shoes = {'name': 'Fancy Shoes',\n",
    "'price': 14900}\n",
    "\n",
    "discount = float(input('Enter the discount% : '))\n",
    "discounted_price = apply_discount(shoes, discount)\n",
    "print(f\"Real price: £{shoes['price']/100}, After applying discount of {discount*100}%: £{discounted_price/100}\")\n",
    "\n"
   ]
  },
  {
   "cell_type": "code",
   "execution_count": 49,
   "metadata": {},
   "outputs": [
    {
     "name": "stdout",
     "output_type": "stream",
     "text": [
      "['g', 'f', 'e', 'd', 'c', 'b', 'a']\n",
      "['a', 'b', 'c', 'd', 'e', 'f', 'g']\n"
     ]
    }
   ],
   "source": [
    "list = ['a', 'b', 'c', 'd', 'e', 'f','g']\n",
    "print(list[::-1])\n",
    "print(list[::])\n",
    "\n",
    "\n"
   ]
  },
  {
   "cell_type": "code",
   "execution_count": 50,
   "metadata": {},
   "outputs": [
    {
     "name": "stdout",
     "output_type": "stream",
     "text": [
      "['g', 'f', 'e', 'd', 'c', 'b', 'a']\n"
     ]
    }
   ],
   "source": [
    "list = ['a', 'b', 'c', 'd', 'e', 'f','g']\n",
    "\n",
    "for index in range(len(list) // 2):\n",
    "    list[index], list[-index-1] = list[-index-1], list[index]\n",
    "\n",
    "print(list)"
   ]
  },
  {
   "cell_type": "code",
   "execution_count": 53,
   "metadata": {},
   "outputs": [
    {
     "name": "stdout",
     "output_type": "stream",
     "text": [
      "['g', 'f', 'e', 'd', 'c', 'b', 'a']\n"
     ]
    }
   ],
   "source": [
    "list = ['a', 'c', 'b', 'e', 'g', 'f','d']\n",
    "list.sort()\n",
    "list.reverse()\n",
    "print(list)"
   ]
  },
  {
   "cell_type": "code",
   "execution_count": 54,
   "metadata": {},
   "outputs": [
    {
     "name": "stdout",
     "output_type": "stream",
     "text": [
      "['g', 'f', 'e', 'd', 'c', 'b', 'a']\n"
     ]
    }
   ],
   "source": [
    "list = ['a', 'c', 'b', 'e', 'g', 'f','d']\n",
    "print(sorted(list, reverse=True))"
   ]
  },
  {
   "cell_type": "code",
   "execution_count": 57,
   "metadata": {},
   "outputs": [
    {
     "name": "stdout",
     "output_type": "stream",
     "text": [
      "['a', 'A', 'b', 'c', 'a', 'aa', 'AAA', 'HELLO']\n"
     ]
    }
   ],
   "source": [
    "random = ['a','A', 'aa', 'AAA', 'HELLO', 'b', 'c', 'a']\n",
    "\n",
    "random.sort(key=str.__len__)   #sort by length of string\n",
    "print(random)"
   ]
  }
 ],
 "metadata": {
  "interpreter": {
   "hash": "57baa5815c940fdaff4d14510622de9616cae602444507ba5d0b6727c008cbd6"
  },
  "kernelspec": {
   "display_name": "Python 3.7.8 64-bit",
   "language": "python",
   "name": "python3"
  },
  "language_info": {
   "codemirror_mode": {
    "name": "ipython",
    "version": 3
   },
   "file_extension": ".py",
   "mimetype": "text/x-python",
   "name": "python",
   "nbconvert_exporter": "python",
   "pygments_lexer": "ipython3",
   "version": "3.9.8"
  },
  "orig_nbformat": 4
 },
 "nbformat": 4,
 "nbformat_minor": 2
}
