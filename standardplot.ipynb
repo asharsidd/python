{
 "cells": [
  {
   "cell_type": "code",
   "execution_count": 1,
   "metadata": {},
   "outputs": [
    {
     "data": {
      "image/png": "[encoded data removed]",
      "text/plain": [
       "<Figure size 432x288 with 1 Axes>"
      ]
     },
     "metadata": {
      "needs_background": "light"
     },
     "output_type": "display_data"
    }
   ],
   "source": [
    "import matplotlib.pyplot as plt\n",
    "import numpy as np\n",
    "\n",
    "x = np.linspace(0, 50, 100)  # Create a list of evenly-spaced numbers over the range\n",
    "plt.plot(x, np.sin(x))       # Plot the sine of each x point\n",
    "plt.show()                   # Display the plot"
   ]
  },
  {
   "cell_type": "code",
   "execution_count": null,
   "metadata": {},
   "outputs": [
    {
     "name": "stdout",
     "output_type": "stream",
     "text": [
      "10\n"
     ]
    }
   ],
   "source": [
    "a=2\n",
    "b=5\n",
    "c=a*b\n",
    "print(c)"
   ]
  },
  {
   "cell_type": "code",
   "execution_count": null,
   "metadata": {},
   "outputs": [
    {
     "name": "stdout",
     "output_type": "stream",
     "text": [
      "What is your name: \n",
      "Hello Ashar you have a nice day\n"
     ]
    }
   ],
   "source": [
    "print(\"What is your name: \")\n",
    "name = input()\n",
    "print(\"Hello\" + \" \" + name + \" \" + \"you have a nice day\")"
   ]
  },
  {
   "cell_type": "code",
   "execution_count": null,
   "metadata": {},
   "outputs": [
    {
     "name": "stdout",
     "output_type": "stream",
     "text": [
      "Time to Birthday is :272 days\n"
     ]
    }
   ],
   "source": [
    "from datetime import datetime\n",
    "from datetime import date\n",
    "import time\n",
    "\n",
    "today = date.today()\n",
    "\n",
    "\n",
    "def user_birthday():\n",
    "    year = int(input('When is your birthday? [YY] '))\n",
    "    month = int(input('When is your birthday? [MM] '))\n",
    "    day = int(input('When is your birthday? [DD] '))\n",
    "\n",
    "    birthday = datetime(year,month,day)\n",
    "    return birthday\n",
    "\n",
    "def calculate_dates(birthday):\n",
    "    today == date.fromtimestamp(time.time())\n",
    "    birthday = date(today.year, birthday.month, birthday.day)\n",
    "    if birthday < today:\n",
    "        birthday = birthday.replace(year=today.year + 1)\n",
    "        return birthday\n",
    "    else:\n",
    "        return birthday\n",
    "    \n",
    "\n",
    "\n",
    "bday = user_birthday()\n",
    "t = calculate_dates(bday)\n",
    "time_to_birthday = abs(t-today)\n",
    "days=str(time_to_birthday.days)\n",
    "print(\"Time to Birthday is :\" + days + \" days\")"
   ]
  },
  {
   "cell_type": "code",
   "execution_count": null,
   "metadata": {},
   "outputs": [
    {
     "name": "stdout",
     "output_type": "stream",
     "text": [
      "Hello World!\n",
      "Hello World!\n",
      "Hello World!\n"
     ]
    }
   ],
   "source": [
    "print(\"Hello World!\\nHello World!\\nHello World!\")\n"
   ]
  },
  {
   "cell_type": "code",
   "execution_count": null,
   "metadata": {},
   "outputs": [],
   "source": [
    "print(\"Day 1 - String Manipulation\")\n",
    "print('String Concatenation is done with the \"+\"sign.')\n",
    "print('e.g. print(\"Hello \" + \"world\")')\n",
    "print(\"New lines can be created with a backslash and n.\")"
   ]
  },
  {
   "cell_type": "code",
   "execution_count": null,
   "metadata": {},
   "outputs": [
    {
     "name": "stdout",
     "output_type": "stream",
     "text": [
      "5 15\n",
      "15 5\n"
     ]
    }
   ],
   "source": [
    "a = 5\n",
    "b = 15\n",
    "print (a, b)\n",
    "a,b = b, a\n",
    "print (a, b)\n"
   ]
  },
  {
   "cell_type": "code",
   "execution_count": null,
   "metadata": {},
   "outputs": [],
   "source": [
    "import pandas as pd\n",
    "import os\n",
    "\n",
    "#my_columns = ['show_id','type', 'title', 'director', 'cast']\n",
    "\n",
    "#print(os.getcwd())\n",
    "#print(os.listdir(os.getcwd()))\n",
    "\n",
    "df = pd.read_csv('netflix_titles.csv')\n",
    "df.head()"
   ]
  },
  {
   "cell_type": "code",
   "execution_count": null,
   "metadata": {},
   "outputs": [],
   "source": [
    "import csv\n",
    "import codecs\n",
    "import requests\n",
    "\n",
    "response = requests.get('https://raw.githubusercontent.com/asharsidd/python/main/netflix_titles.csv')\n",
    "r = response.iter_lines()\n",
    "\n",
    "reader = csv.reader(codecs.iterdecode(r, 'utf-8'))\n",
    "for row in reader:\n",
    "    print(row[2], end='\\t')                   #giving the name of the movie\n",
    "    print(row[10])                            #giving the Genre of the movie in same row"
   ]
  },
  {
   "cell_type": "markdown",
   "metadata": {},
   "source": [
    "Web Scrapping using Beautiful Soup"
   ]
  },
  {
   "cell_type": "code",
   "execution_count": null,
   "metadata": {},
   "outputs": [],
   "source": [
    "import requests\n",
    "from bs4 import BeautifulSoup\n",
    "\n",
    "response = requests.get('https://www.crummy.com/software/BeautifulSoup/bs4/doc/')\n",
    "print(response.text)\n",
    "\n",
    "soup = BeautifulSoup(response.text, 'html.parser')\n",
    "print(soup.title.parent.name)"
   ]
  },
  {
   "cell_type": "code",
   "execution_count": null,
   "metadata": {},
   "outputs": [],
   "source": [
    "employee_number = \"\"\n",
    "parts = \"\"\n",
    "valid = False\n",
    "\n",
    "while employee_number !=\"sentinel\" and valid is False:\n",
    "    employee_number = input(\"Enter employee number (ddd-dd-dddd): \")\n",
    "    parts = employee_number.split('-')\n",
    "    if len(parts) == 3:\n",
    "        if len(parts[0]) ==3 and len(parts[1]) ==2 and len(parts[2]) ==4:\n",
    "            if parts[0].isdigit and parts[1].isdigit() and parts[2].isdigit():\n",
    "                valid = True\n",
    "                print(\"Thanks for Entering the Employee number!\")\n",
    "                break\n",
    "            else:\n",
    "             continue\n",
    "        else:\n",
    "            continue\n",
    "    else:\n",
    "        continue\n",
    "\n",
    "\n"
   ]
  },
  {
   "cell_type": "markdown",
   "metadata": {},
   "source": [
    "Print prime numbers between 2 and 100"
   ]
  },
  {
   "cell_type": "code",
   "execution_count": 14,
   "metadata": {},
   "outputs": [
    {
     "name": "stdout",
     "output_type": "stream",
     "text": [
      "2\n",
      "3\n",
      "5\n",
      "7\n",
      "11\n",
      "13\n",
      "17\n",
      "19\n",
      "23\n",
      "29\n",
      "31\n",
      "37\n",
      "41\n",
      "43\n",
      "47\n",
      "53\n",
      "59\n",
      "61\n",
      "67\n",
      "71\n",
      "73\n",
      "79\n",
      "83\n",
      "89\n",
      "97\n"
     ]
    }
   ],
   "source": [
    "p=2\n",
    "while p<=100:\n",
    "    isPrime = True\n",
    "    for i in range(2,p):\n",
    "        if p % i == 0:\n",
    "            isPrime = False\n",
    "            break\n",
    "    if isPrime:\n",
    "        print(p)\n",
    "    p+=1"
   ]
  },
  {
   "cell_type": "code",
   "execution_count": 17,
   "metadata": {},
   "outputs": [
    {
     "name": "stdout",
     "output_type": "stream",
     "text": [
      "7\n"
     ]
    }
   ],
   "source": [
    "items = int(float(input('Enter a number: ')))\n",
    "print(items)"
   ]
  },
  {
   "cell_type": "code",
   "execution_count": 20,
   "metadata": {},
   "outputs": [
    {
     "name": "stdout",
     "output_type": "stream",
     "text": [
      "202020\n",
      "<class 'str'>\n"
     ]
    }
   ],
   "source": [
    "x1 = \"20\"\n",
    "y1 = 3\n",
    "a = x1 * y1\n",
    "print(a)\n",
    "print(type(a))"
   ]
  },
  {
   "cell_type": "code",
   "execution_count": null,
   "metadata": {},
   "outputs": [],
   "source": [
    "import requests\n",
    "from bs4 import BeautifulSoup\n",
    "\n",
    "response = requests.get('https://en.wikipedia.org/wiki/Mercedes-Benz')\n",
    "soup = BeautifulSoup(response.text, 'html.parser')\n",
    "soup.find_all('img')"
   ]
  },
  {
   "cell_type": "code",
   "execution_count": null,
   "metadata": {},
   "outputs": [],
   "source": [
    "from IPython.core.display import Image, display\n",
    "import requests\n",
    "from bs4 import BeautifulSoup\n",
    "from IPython.display import Image\n",
    "\n",
    "response = requests.get('https://en.wikipedia.org/wiki/Mercedes-Benz')\n",
    "\n",
    "soup = BeautifulSoup(response.text, 'html.parser')\n",
    "for img in soup.find_all('img'):\n",
    "    src = 'https:'\n",
    "    full_img = src + img['src']\n",
    "    try:\n",
    "        display(Image(full_img))\n",
    "    except Exception:\n",
    "        continue\n"
   ]
  },
  {
   "cell_type": "code",
   "execution_count": 26,
   "metadata": {},
   "outputs": [
    {
     "data": {
      "image/jpeg": "[encoded data removed]",
      "text/plain": [
       "<IPython.core.display.Image object>"
      ]
     },
     "execution_count": 26,
     "metadata": {},
     "output_type": "execute_result"
    }
   ],
   "source": [
    "from IPython.display import Image\n",
    "Image('https://upload.wikimedia.org/wikipedia/commons/thumb/1/18/Mercedes-Benz_W206_IMG_4869.jpg/200px-Mercedes-Benz_W206_IMG_4869.jpg')"
   ]
  },
  {
   "cell_type": "code",
   "execution_count": null,
   "metadata": {},
   "outputs": [],
   "source": [
    "import instaloader\n",
    "ig = instaloader.instaloader\n",
    "dp = input(\"Enter Insta Username: \")\n",
    "\n",
    "ig.download_profile(dp, profile_pic_only=True)\n"
   ]
  },
  {
   "cell_type": "markdown",
   "metadata": {},
   "source": [
    "To print out the PATH variable details"
   ]
  },
  {
   "cell_type": "code",
   "execution_count": null,
   "metadata": {},
   "outputs": [],
   "source": [
    "import os\n",
    "path = os.getenv('PATH')\n",
    "print(path)"
   ]
  }
 ],
 "metadata": {
  "interpreter": {
   "hash": "57baa5815c940fdaff4d14510622de9616cae602444507ba5d0b6727c008cbd6"
  },
  "kernelspec": {
   "display_name": "Python 3.7.8 64-bit",
   "language": "python",
   "name": "python3"
  },
  "language_info": {
   "codemirror_mode": {
    "name": "ipython",
    "version": 3
   },
   "file_extension": ".py",
   "mimetype": "text/x-python",
   "name": "python",
   "nbconvert_exporter": "python",
   "pygments_lexer": "ipython3",
   "version": "3.9.8"
  },
  "orig_nbformat": 4
 },
 "nbformat": 4,
 "nbformat_minor": 2
}
