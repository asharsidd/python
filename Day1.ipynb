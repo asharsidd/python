{
  "cells": [
    {
      "cell_type": "markdown",
      "metadata": {
        "colab_type": "text",
        "id": "view-in-github"
      },
      "source": [
        "<a href=\"https://colab.research.google.com/github/asharsidd/python/blob/main/Day1.ipynb\" target=\"_parent\"><img src=\"https://colab.research.google.com/assets/colab-badge.svg\" alt=\"Open In Colab\"/></a>"
      ]
    },
    {
      "cell_type": "code",
      "execution_count": 8,
      "metadata": {
        "colab": {
          "base_uri": "https://localhost:8080/"
        },
        "id": "Ht6_ttwkCDAX",
        "outputId": "bfe0b780-447c-4287-e07b-1b09746edc6d"
      },
      "outputs": [
        {
          "name": "stdout",
          "output_type": "stream",
          "text": [
            "Welcome home dear Hannah\n",
            "Welcome home dear Natalie\n",
            "Welcome home dear Beckie\n",
            "Welcome home dear Tracey\n"
          ]
        }
      ],
      "source": [
        "def greet(*person):\n",
        "    for i in person:\n",
        "        print(f\"Welcome home dear {i}\")\n",
        "        pass\n",
        "\n",
        "\n",
        "#people = [\"Hannah\", \"Natalie\", \"Beckie\", \"Tracey\"]\n",
        "#greet(people)\n",
        "\n",
        "greet(\"Hannah\", \"Natalie\", \"Beckie\", \"Tracey\")"
      ]
    },
    {
      "cell_type": "code",
      "execution_count": 4,
      "metadata": {
        "colab": {
          "base_uri": "https://localhost:8080/"
        },
        "id": "7ExSZ3TBDEN6",
        "outputId": "88cb2297-f642-44ce-b72a-1deb76ae03ff"
      },
      "outputs": [
        {
          "name": "stdout",
          "output_type": "stream",
          "text": [
            "5 15\n",
            "15 5\n"
          ]
        }
      ],
      "source": [
        "a = 5\n",
        "b = 15\n",
        "print(a,b)\n",
        "a,b = b, a\n",
        "print(a,b)"
      ]
    },
    {
      "cell_type": "code",
      "execution_count": 3,
      "metadata": {
        "colab": {
          "base_uri": "https://localhost:8080/"
        },
        "id": "AYDo7EFlGXXx",
        "outputId": "40ef4eae-7baf-4cc8-b9b3-9a5270ade2d4"
      },
      "outputs": [
        {
          "name": "stdout",
          "output_type": "stream",
          "text": [
            "20 sqaured is larger than 100\n",
            "40 sqaured is larger than 100\n",
            "60 sqaured is larger than 100\n",
            "80 sqaured is larger than 100\n"
          ]
        }
      ],
      "source": [
        "numbers = [2, 4, 6, 8, 10, 20, 40, 60, 80]\n",
        "\n",
        "i = 0\n",
        "square = 100\n",
        "\n",
        "while i < len(numbers):\n",
        "    if numbers[i] ** 2 > square:\n",
        "        print(f\"{numbers[i]} sqaured is larger than {square}\")\n",
        "        i+=1\n",
        "    else:\n",
        "        i+=1"
      ]
    },
    {
      "cell_type": "code",
      "execution_count": null,
      "metadata": {
        "id": "AhiiV6vthBbK"
      },
      "outputs": [],
      "source": [
        "type(5.9)"
      ]
    },
    {
      "cell_type": "code",
      "execution_count": 2,
      "metadata": {
        "colab": {
          "base_uri": "https://localhost:8080/"
        },
        "id": "qDcHP33ZmqDb",
        "outputId": "0bc721d4-54cc-4b62-e44d-7f1191025103"
      },
      "outputs": [
        {
          "name": "stdout",
          "output_type": "stream",
          "text": [
            "(2, 3, 4)\n"
          ]
        }
      ],
      "source": [
        "numbers = (1,2,3,4,5,6,7,8,9)\n",
        "interval = slice(1,4)\n",
        "#print(interval[:3])\n",
        "#print(interval[3:])\n",
        "#print(interval[:])\n",
        "print(numbers[interval])"
      ]
    },
    {
      "cell_type": "code",
      "execution_count": 9,
      "metadata": {
        "colab": {
          "base_uri": "https://localhost:8080/"
        },
        "id": "ZzmyFLb5a3K_",
        "outputId": "7cccd262-991c-495d-9ae4-0acf52327b9d"
      },
      "outputs": [
        {
          "name": "stdout",
          "output_type": "stream",
          "text": [
            "3\n",
            "['Stuart', 'Tom', 'Niki', 'Anna']\n",
            "['Stuart', 'Tom', 'Niki', 'Anna', ('Matt', 'Ian'), 'Hannah', 'Tracey', 'Mark']\n",
            "['Tom', 'Niki', 'Anna']\n"
          ]
        }
      ],
      "source": [
        "names = ['Stuart', 'Tom','Niki']\n",
        "print(len(names))\n",
        "names.append('Anna')\n",
        "print(names)\n",
        "names.append(('Matt', 'Ian'))    #append 1 item or a tuple\n",
        "names.extend(('Hannah', 'Tracey', 'Mark'))   # can add multiple items with an extend\n",
        "print(names)\n",
        "interval = slice(1,4)           #slice is a start, stop and steps thing\n",
        "print(names[interval])\n"
      ]
    },
    {
      "cell_type": "code",
      "execution_count": 1,
      "metadata": {
        "colab": {
          "base_uri": "https://localhost:8080/"
        },
        "id": "3FRy23CtloNG",
        "outputId": "dcd227e6-750b-49cb-aa18-1f9e761bf06f"
      },
      "outputs": [
        {
          "name": "stdout",
          "output_type": "stream",
          "text": [
            "ashar\n",
            "azfar\n",
            "omer\n"
          ]
        }
      ],
      "source": [
        "for x in ['ashar', 'azfar','omer']:\n",
        "  print(x)"
      ]
    },
    {
      "cell_type": "code",
      "execution_count": 9,
      "metadata": {
        "colab": {
          "base_uri": "https://localhost:8080/"
        },
        "id": "6fEddrdrxRTm",
        "outputId": "1b7799af-30be-41d5-c05a-34da16bc01ab"
      },
      "outputs": [
        {
          "name": "stdout",
          "output_type": "stream",
          "text": [
            "hungry fox jumps on a rabbit!\n"
          ]
        }
      ],
      "source": [
        "text = 'hungry fox jumps on a rabbit!  '      #strip removes whitespance before or after\n",
        "print(text.strip())"
      ]
    },
    {
      "cell_type": "markdown",
      "metadata": {
        "id": "tp-JTOu6FXTG"
      },
      "source": [
        "There are four collection data types in the Python programming language:\n",
        "\n",
        "    List is a collection which is ordered and changeable. Allows duplicate members.\n",
        "    Tuple is a collection which is ordered and unchangeable. Allows duplicate members.\n",
        "    Set is a collection which is unordered, unchangeable*, and unindexed. No duplicate members.\n",
        "    Dictionary is a collection which is ordered** and changeable. No duplicate members.\n",
        "\n",
        "*Set items are unchangeable, but you can remove and/or add items whenever you like.\n",
        "\n",
        "**As of Python version 3.7, dictionaries are ordered. In Python 3.6 and earlier, dictionaries are unordered."
      ]
    },
    {
      "cell_type": "markdown",
      "metadata": {
        "id": "GVKcepERSsD1"
      },
      "source": [
        "List comprehension offers a shorter syntax when you want to create a new list based on the values of an existing list.\n",
        "\n",
        "Example:\n",
        "\n",
        "Based on a list of fruits, you want a new list, containing only the fruits with the letter \"a\" in the name.\n",
        "\n",
        "Without list comprehension you will have to write a for statement with a conditional test inside:"
      ]
    },
    {
      "cell_type": "code",
      "execution_count": 5,
      "metadata": {
        "colab": {
          "base_uri": "https://localhost:8080/"
        },
        "id": "gBPRyj0-Fj--",
        "outputId": "7aa0e150-23b6-4263-dc95-4111f4a1034e"
      },
      "outputs": [
        {
          "name": "stdout",
          "output_type": "stream",
          "text": [
            "['a', 'p', 'p', 'l', 'e', 'apple', 'b', 'a', 'n', 'a', 'n', 'a', 'banana', 'm', 'a', 'n', 'g', 'o', 'mango']\n",
            "['apple', 'banana', 'mango']\n",
            "['apple', 'banana', 'cherry', 'kiwi', 'mango']\n"
          ]
        }
      ],
      "source": [
        "fruits = [\"apple\", \"banana\", \"cherry\", \"kiwi\", \"mango\"]\n",
        "newlist = []\n",
        "newlist1 = [x for x in fruits if \"a\" in x]          # syntax newlist = [expression for item in iterable if condition == True]\n",
        "newlist2 = [x for x in fruits]                      # full copy of said list\n",
        "for x in fruits:\n",
        "  if \"a\" in x:\n",
        "    newlist.extend(x)\n",
        "    newlist.append(x)\n",
        "\n",
        "print(newlist)\n",
        "print(newlist1)\n",
        "print(newlist2)"
      ]
    },
    {
      "cell_type": "markdown",
      "metadata": {
        "id": "Sqx19bUYSwow"
      },
      "source": [
        "List comprehension offers a shorter syntax when you want to create a new list based on the values of an existing list.\n",
        "\n",
        "Example:\n",
        "\n",
        "Based on a list of fruits, you want a new list, containing only the fruits with the letter \"a\" in the name.\n",
        "\n",
        "Without list comprehension you will have to write a for statement with a conditional test inside:"
      ]
    },
    {
      "cell_type": "code",
      "execution_count": 1,
      "metadata": {
        "colab": {
          "base_uri": "https://localhost:8080/"
        },
        "id": "YNp_zjdz4CA_",
        "outputId": "3edafe66-1244-4717-8f4f-2e006b09d49d"
      },
      "outputs": [
        {
          "name": "stdout",
          "output_type": "stream",
          "text": [
            "1\n",
            "2\n",
            "3\n",
            "4\n",
            "5\n"
          ]
        }
      ],
      "source": [
        "data = ('1','2','3','4','5')\n",
        "for i in range(len(data)):\n",
        "  print(data[i])"
      ]
    },
    {
      "cell_type": "code",
      "execution_count": 5,
      "metadata": {
        "colab": {
          "base_uri": "https://localhost:8080/"
        },
        "id": "iao1Efd1ynGa",
        "outputId": "bc0cdd81-5885-4f23-bbf4-81e665a2a7cf"
      },
      "outputs": [
        {
          "name": "stdout",
          "output_type": "stream",
          "text": [
            "Keep on typing! Enter 'stop' to Exitw\n",
            "\n",
            "hello\n",
            "world\n",
            "you are great\n",
            "stop\n",
            "and we are out.....\n"
          ]
        }
      ],
      "source": [
        "print(\"Keep on typing! Enter 'stop' to Exit\\n\")\n",
        "while True:  \n",
        "  x = input()\n",
        "  if x == 'stop':\n",
        "    break\n",
        "  else:\n",
        "    continue\n",
        "print('and we are out.....')"
      ]
    },
    {
      "cell_type": "code",
      "execution_count": 7,
      "metadata": {
        "colab": {
          "base_uri": "https://localhost:8080/"
        },
        "id": "AK1zyk8k5UhD",
        "outputId": "1019f8c9-014b-4875-9354-44b8c53be7bc"
      },
      "outputs": [
        {
          "name": "stdout",
          "output_type": "stream",
          "text": [
            "Jack 40\n",
            "Jill 32\n",
            "Tom 4\n",
            "Natalie 2\n"
          ]
        }
      ],
      "source": [
        "data_dictionary = {\n",
        "    'Jack': 40,\n",
        "    'Jill': 32,\n",
        "    'Tom': 4,\n",
        "    'Natalie': 2\n",
        "}\n",
        "\n",
        "for key, value in data_dictionary.items():\n",
        "  print(key,value)"
      ]
    },
    {
      "cell_type": "code",
      "execution_count": 15,
      "metadata": {
        "colab": {
          "base_uri": "https://localhost:8080/"
        },
        "id": "2tx867PO8oVG",
        "outputId": "c491c247-b4e2-4163-87d7-3f811cd4d4c8"
      },
      "outputs": [
        {
          "name": "stdout",
          "output_type": "stream",
          "text": [
            "11\n",
            "Guess the number!\n",
            "10\n",
            "Guess higher\n",
            "Guess the number!\n",
            "11\n",
            "The number was 11 and you guessed it right!! You win!\n",
            "Do you want to play again Y/N: y\n",
            "Guess the number!\n",
            "12\n",
            "Guess lower\n",
            "Guess the number!\n",
            "10\n",
            "Guess higher\n",
            "Guess the number!\n",
            "11\n",
            "The number was 11 and you guessed it right!! You win!\n",
            "Do you want to play again Y/N: n\n",
            "Game over!\n"
          ]
        }
      ],
      "source": [
        "import random\n",
        "\n",
        "target_num = random.randint(1,50)\n",
        "play = 'Y'\n",
        "while play.upper() == 'Y':\n",
        "  print(\"Guess the number!\")\n",
        "  guess = int(input())\n",
        "  if guess < target_num:\n",
        "    print(\"Guess higher\")\n",
        "  elif guess > target_num:\n",
        "    print(\"Guess lower\")\n",
        "  else:\n",
        "    print(f\"The number was {target_num} and you guessed it right!! You win!\")\n",
        "    play = input(\"Do you want to play again Y/N: \")\n",
        "else:\n",
        "  print(\"Game over!\")\n"
      ]
    },
    {
      "cell_type": "code",
      "execution_count": null,
      "metadata": {},
      "outputs": [],
      "source": [
        "print(\"This is coming from Visual code via Git\")"
      ]
    }
  ],
  "metadata": {
    "colab": {
      "authorship_tag": "ABX9TyMIuiHxrEJYj5iFtXJubkee",
      "collapsed_sections": [],
      "include_colab_link": true,
      "name": "Day1.ipynb",
      "provenance": []
    },
    "kernelspec": {
      "display_name": "Python 3",
      "name": "python3"
    },
    "language_info": {
      "name": "python"
    }
  },
  "nbformat": 4,
  "nbformat_minor": 0
}
