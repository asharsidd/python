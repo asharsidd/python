{
  "nbformat": 4,
  "nbformat_minor": 0,
  "metadata": {
    "colab": {
      "name": "Day1.ipynb",
      "provenance": [],
      "collapsed_sections": [],
      "authorship_tag": "ABX9TyM4MD+L9ewAjBTwBbn7v8SG",
      "include_colab_link": true
    },
    "kernelspec": {
      "name": "python3",
      "display_name": "Python 3"
    },
    "language_info": {
      "name": "python"
    }
  },
  "cells": [
    {
      "cell_type": "markdown",
      "metadata": {
        "id": "view-in-github",
        "colab_type": "text"
      },
      "source": [
        "<a href=\"https://colab.research.google.com/github/asharsidd/python/blob/main/Day1.ipynb\" target=\"_parent\"><img src=\"https://colab.research.google.com/assets/colab-badge.svg\" alt=\"Open In Colab\"/></a>"
      ]
    },
    {
      "cell_type": "code",
      "metadata": {
        "id": "Ht6_ttwkCDAX"
      },
      "source": [
        "def greet(*person):\n",
        "    for i in person:\n",
        "        print(f\"Welcome home dear {i}\")\n",
        "        pass\n",
        "\n",
        "\n",
        "#people = [\"Alyaan\", \"Aleesha\", \"Aasma\", \"Ashar\"]\n",
        "#greet(people)\n",
        "\n",
        "greet(\"Alyaan\", \"Aleesha\", \"Aasma\", \"Ashar\", \"Aziz Siddiqui\")"
      ],
      "execution_count": null,
      "outputs": []
    },
    {
      "cell_type": "code",
      "metadata": {
        "id": "7ExSZ3TBDEN6"
      },
      "source": [
        "a = 5\n",
        "b = 15\n",
        "print(a,b)\n",
        "a,b = b, a\n",
        "print(a,b)"
      ],
      "execution_count": null,
      "outputs": []
    },
    {
      "cell_type": "code",
      "metadata": {
        "colab": {
          "base_uri": "https://localhost:8080/"
        },
        "id": "AYDo7EFlGXXx",
        "outputId": "2337d508-bb33-4266-a9bd-38b0cc4ecc47"
      },
      "source": [
        "numbers = [2, 4, 6, 8, 10, 20, 40, 60, 80]\n",
        "\n",
        "i = 0\n",
        "square = 100\n",
        "\n",
        "while i < len(numbers):\n",
        "    if numbers[i] ** 2 > square:\n",
        "        print(f\"{numbers[i]} sqaured is larger than {square}\")\n",
        "        i+=1\n",
        "    else:\n",
        "        i+=1"
      ],
      "execution_count": 7,
      "outputs": [
        {
          "output_type": "stream",
          "name": "stdout",
          "text": [
            "20 sqaured is larger than 100\n",
            "40 sqaured is larger than 100\n",
            "60 sqaured is larger than 100\n",
            "80 sqaured is larger than 100\n"
          ]
        }
      ]
    }
  ]
}