{
  "nbformat": 4,
  "nbformat_minor": 0,
  "metadata": {
    "colab": {
      "name": "Day1.ipynb",
      "provenance": [],
      "collapsed_sections": [],
      "authorship_tag": "ABX9TyNJ995KLlhFhDMXh4Rm24SM",
      "include_colab_link": true
    },
    "kernelspec": {
      "name": "python3",
      "display_name": "Python 3"
    },
    "language_info": {
      "name": "python"
    }
  },
  "cells": [
    {
      "cell_type": "markdown",
      "metadata": {
        "id": "view-in-github",
        "colab_type": "text"
      },
      "source": [
        "<a href=\"https://colab.research.google.com/github/asharsidd/python/blob/main/Day1.ipynb\" target=\"_parent\"><img src=\"https://colab.research.google.com/assets/colab-badge.svg\" alt=\"Open In Colab\"/></a>"
      ]
    },
    {
      "cell_type": "code",
      "metadata": {
        "id": "Ht6_ttwkCDAX"
      },
      "source": [
        "def greet(*person):\n",
        "    for i in person:\n",
        "        print(f\"Welcome home dear {i}\")\n",
        "        pass\n",
        "\n",
        "\n",
        "#people = [\"Alyaan\", \"Aleesha\", \"Aasma\", \"Ashar\"]\n",
        "#greet(people)\n",
        "\n",
        "greet(\"Alyaan\", \"Aleesha\", \"Aasma\", \"Ashar\", \"Aziz Siddiqui\")"
      ],
      "execution_count": null,
      "outputs": []
    },
    {
      "cell_type": "code",
      "metadata": {
        "id": "7ExSZ3TBDEN6"
      },
      "source": [
        "a = 5\n",
        "b = 15\n",
        "print(a,b)\n",
        "a,b = b, a\n",
        "print(a,b)"
      ],
      "execution_count": null,
      "outputs": []
    },
    {
      "cell_type": "code",
      "metadata": {
        "id": "AYDo7EFlGXXx"
      },
      "source": [
        "numbers = [2, 4, 6, 8, 10, 20, 40, 60, 80]\n",
        "\n",
        "i = 0\n",
        "square = 100\n",
        "\n",
        "while i < len(numbers):\n",
        "    if numbers[i] ** 2 > square:\n",
        "        print(f\"{numbers[i]} sqaured is larger than {square}\")\n",
        "        i+=1\n",
        "    else:\n",
        "        i+=1"
      ],
      "execution_count": null,
      "outputs": []
    },
    {
      "cell_type": "code",
      "metadata": {
        "id": "AhiiV6vthBbK"
      },
      "source": [
        "type(5.9)"
      ],
      "execution_count": null,
      "outputs": []
    },
    {
      "cell_type": "code",
      "metadata": {
        "colab": {
          "base_uri": "https://localhost:8080/"
        },
        "id": "qDcHP33ZmqDb",
        "outputId": "64debee1-517e-4d5b-f7c6-3f119a192c80"
      },
      "source": [
        "numbers = (1,2,3,4,5,6,7,8,9)\n",
        "interval = slice(1,4)\n",
        "#print(interval[:3])\n",
        "#print(interval[3:])\n",
        "#print(interval[:])\n",
        "print(numbers[interval])"
      ],
      "execution_count": 1,
      "outputs": [
        {
          "output_type": "stream",
          "name": "stdout",
          "text": [
            "(2, 3, 4)\n"
          ]
        }
      ]
    },
    {
      "cell_type": "code",
      "metadata": {
        "colab": {
          "base_uri": "https://localhost:8080/"
        },
        "id": "ZzmyFLb5a3K_",
        "outputId": "a9183101-4f2b-4293-83e7-b455ea4e08c2"
      },
      "source": [
        "names = ['ashar', 'azfar','omer']\n",
        "print(len(names))\n",
        "names.append('Rooshi')\n",
        "print(names)"
      ],
      "execution_count": 2,
      "outputs": [
        {
          "output_type": "stream",
          "name": "stdout",
          "text": [
            "3\n",
            "['ashar', 'azfar', 'omer', 'Rooshi']\n"
          ]
        }
      ]
    }
  ]
}