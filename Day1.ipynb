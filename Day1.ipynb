{
  "nbformat": 4,
  "nbformat_minor": 0,
  "metadata": {
    "colab": {
      "name": "Day1.ipynb",
      "provenance": [],
      "collapsed_sections": [],
      "authorship_tag": "ABX9TyMIuiHxrEJYj5iFtXJubkee",
      "include_colab_link": true
    },
    "kernelspec": {
      "name": "python3",
      "display_name": "Python 3"
    },
    "language_info": {
      "name": "python"
    }
  },
  "cells": [
    {
      "cell_type": "markdown",
      "metadata": {
        "id": "view-in-github",
        "colab_type": "text"
      },
      "source": [
        "<a href=\"https://colab.research.google.com/github/asharsidd/python/blob/main/Day1.ipynb\" target=\"_parent\"><img src=\"https://colab.research.google.com/assets/colab-badge.svg\" alt=\"Open In Colab\"/></a>"
      ]
    },
    {
      "cell_type": "code",
      "metadata": {
        "id": "Ht6_ttwkCDAX",
        "colab": {
          "base_uri": "https://localhost:8080/"
        },
        "outputId": "bfe0b780-447c-4287-e07b-1b09746edc6d"
      },
      "source": [
        "def greet(*person):\n",
        "    for i in person:\n",
        "        print(f\"Welcome home dear {i}\")\n",
        "        pass\n",
        "\n",
        "\n",
        "#people = [\"Hannah\", \"Natalie\", \"Beckie\", \"Tracey\"]\n",
        "#greet(people)\n",
        "\n",
        "greet(\"Hannah\", \"Natalie\", \"Beckie\", \"Tracey\")"
      ],
      "execution_count": 8,
      "outputs": [
        {
          "output_type": "stream",
          "name": "stdout",
          "text": [
            "Welcome home dear Hannah\n",
            "Welcome home dear Natalie\n",
            "Welcome home dear Beckie\n",
            "Welcome home dear Tracey\n"
          ]
        }
      ]
    },
    {
      "cell_type": "code",
      "metadata": {
        "id": "7ExSZ3TBDEN6",
        "colab": {
          "base_uri": "https://localhost:8080/"
        },
        "outputId": "88cb2297-f642-44ce-b72a-1deb76ae03ff"
      },
      "source": [
        "a = 5\n",
        "b = 15\n",
        "print(a,b)\n",
        "a,b = b, a\n",
        "print(a,b)"
      ],
      "execution_count": 4,
      "outputs": [
        {
          "output_type": "stream",
          "name": "stdout",
          "text": [
            "5 15\n",
            "15 5\n"
          ]
        }
      ]
    },
    {
      "cell_type": "code",
      "metadata": {
        "id": "AYDo7EFlGXXx",
        "colab": {
          "base_uri": "https://localhost:8080/"
        },
        "outputId": "40ef4eae-7baf-4cc8-b9b3-9a5270ade2d4"
      },
      "source": [
        "numbers = [2, 4, 6, 8, 10, 20, 40, 60, 80]\n",
        "\n",
        "i = 0\n",
        "square = 100\n",
        "\n",
        "while i < len(numbers):\n",
        "    if numbers[i] ** 2 > square:\n",
        "        print(f\"{numbers[i]} sqaured is larger than {square}\")\n",
        "        i+=1\n",
        "    else:\n",
        "        i+=1"
      ],
      "execution_count": 3,
      "outputs": [
        {
          "output_type": "stream",
          "name": "stdout",
          "text": [
            "20 sqaured is larger than 100\n",
            "40 sqaured is larger than 100\n",
            "60 sqaured is larger than 100\n",
            "80 sqaured is larger than 100\n"
          ]
        }
      ]
    },
    {
      "cell_type": "code",
      "metadata": {
        "id": "AhiiV6vthBbK"
      },
      "source": [
        "type(5.9)"
      ],
      "execution_count": null,
      "outputs": []
    },
    {
      "cell_type": "code",
      "metadata": {
        "colab": {
          "base_uri": "https://localhost:8080/"
        },
        "id": "qDcHP33ZmqDb",
        "outputId": "0bc721d4-54cc-4b62-e44d-7f1191025103"
      },
      "source": [
        "numbers = (1,2,3,4,5,6,7,8,9)\n",
        "interval = slice(1,4)\n",
        "#print(interval[:3])\n",
        "#print(interval[3:])\n",
        "#print(interval[:])\n",
        "print(numbers[interval])"
      ],
      "execution_count": 2,
      "outputs": [
        {
          "output_type": "stream",
          "name": "stdout",
          "text": [
            "(2, 3, 4)\n"
          ]
        }
      ]
    },
    {
      "cell_type": "code",
      "metadata": {
        "colab": {
          "base_uri": "https://localhost:8080/"
        },
        "id": "ZzmyFLb5a3K_",
        "outputId": "7cccd262-991c-495d-9ae4-0acf52327b9d"
      },
      "source": [
        "names = ['Stuart', 'Tom','Niki']\n",
        "print(len(names))\n",
        "names.append('Anna')\n",
        "print(names)\n",
        "names.append(('Matt', 'Ian'))    #append 1 item or a tuple\n",
        "names.extend(('Hannah', 'Tracey', 'Mark'))   # can add multiple items with an extend\n",
        "print(names)\n",
        "interval = slice(1,4)           #slice is a start, stop and steps thing\n",
        "print(names[interval])\n"
      ],
      "execution_count": 9,
      "outputs": [
        {
          "output_type": "stream",
          "name": "stdout",
          "text": [
            "3\n",
            "['Stuart', 'Tom', 'Niki', 'Anna']\n",
            "['Stuart', 'Tom', 'Niki', 'Anna', ('Matt', 'Ian'), 'Hannah', 'Tracey', 'Mark']\n",
            "['Tom', 'Niki', 'Anna']\n"
          ]
        }
      ]
    },
    {
      "cell_type": "code",
      "metadata": {
        "colab": {
          "base_uri": "https://localhost:8080/"
        },
        "id": "3FRy23CtloNG",
        "outputId": "dcd227e6-750b-49cb-aa18-1f9e761bf06f"
      },
      "source": [
        "for x in ['ashar', 'azfar','omer']:\n",
        "  print(x)"
      ],
      "execution_count": 1,
      "outputs": [
        {
          "output_type": "stream",
          "name": "stdout",
          "text": [
            "ashar\n",
            "azfar\n",
            "omer\n"
          ]
        }
      ]
    },
    {
      "cell_type": "code",
      "metadata": {
        "colab": {
          "base_uri": "https://localhost:8080/"
        },
        "id": "6fEddrdrxRTm",
        "outputId": "1b7799af-30be-41d5-c05a-34da16bc01ab"
      },
      "source": [
        "text = 'hungry fox jumps on a rabbit!  '      #strip removes whitespance before or after\n",
        "print(text.strip())"
      ],
      "execution_count": 9,
      "outputs": [
        {
          "output_type": "stream",
          "name": "stdout",
          "text": [
            "hungry fox jumps on a rabbit!\n"
          ]
        }
      ]
    },
    {
      "cell_type": "markdown",
      "metadata": {
        "id": "tp-JTOu6FXTG"
      },
      "source": [
        "There are four collection data types in the Python programming language:\n",
        "\n",
        "    List is a collection which is ordered and changeable. Allows duplicate members.\n",
        "    Tuple is a collection which is ordered and unchangeable. Allows duplicate members.\n",
        "    Set is a collection which is unordered, unchangeable*, and unindexed. No duplicate members.\n",
        "    Dictionary is a collection which is ordered** and changeable. No duplicate members.\n",
        "\n",
        "*Set items are unchangeable, but you can remove and/or add items whenever you like.\n",
        "\n",
        "**As of Python version 3.7, dictionaries are ordered. In Python 3.6 and earlier, dictionaries are unordered."
      ]
    },
    {
      "cell_type": "markdown",
      "metadata": {
        "id": "GVKcepERSsD1"
      },
      "source": [
        "List comprehension offers a shorter syntax when you want to create a new list based on the values of an existing list.\n",
        "\n",
        "Example:\n",
        "\n",
        "Based on a list of fruits, you want a new list, containing only the fruits with the letter \"a\" in the name.\n",
        "\n",
        "Without list comprehension you will have to write a for statement with a conditional test inside:"
      ]
    },
    {
      "cell_type": "code",
      "metadata": {
        "colab": {
          "base_uri": "https://localhost:8080/"
        },
        "id": "gBPRyj0-Fj--",
        "outputId": "7aa0e150-23b6-4263-dc95-4111f4a1034e"
      },
      "source": [
        "fruits = [\"apple\", \"banana\", \"cherry\", \"kiwi\", \"mango\"]\n",
        "newlist = []\n",
        "newlist1 = [x for x in fruits if \"a\" in x]          # syntax newlist = [expression for item in iterable if condition == True]\n",
        "newlist2 = [x for x in fruits]                      # full copy of said list\n",
        "for x in fruits:\n",
        "  if \"a\" in x:\n",
        "    newlist.extend(x)\n",
        "    newlist.append(x)\n",
        "\n",
        "print(newlist)\n",
        "print(newlist1)\n",
        "print(newlist2)"
      ],
      "execution_count": 5,
      "outputs": [
        {
          "output_type": "stream",
          "name": "stdout",
          "text": [
            "['a', 'p', 'p', 'l', 'e', 'apple', 'b', 'a', 'n', 'a', 'n', 'a', 'banana', 'm', 'a', 'n', 'g', 'o', 'mango']\n",
            "['apple', 'banana', 'mango']\n",
            "['apple', 'banana', 'cherry', 'kiwi', 'mango']\n"
          ]
        }
      ]
    },
    {
      "cell_type": "markdown",
      "metadata": {
        "id": "Sqx19bUYSwow"
      },
      "source": [
        "List comprehension offers a shorter syntax when you want to create a new list based on the values of an existing list.\n",
        "\n",
        "Example:\n",
        "\n",
        "Based on a list of fruits, you want a new list, containing only the fruits with the letter \"a\" in the name.\n",
        "\n",
        "Without list comprehension you will have to write a for statement with a conditional test inside:"
      ]
    },
    {
      "cell_type": "code",
      "metadata": {
        "colab": {
          "base_uri": "https://localhost:8080/"
        },
        "id": "YNp_zjdz4CA_",
        "outputId": "3edafe66-1244-4717-8f4f-2e006b09d49d"
      },
      "source": [
        "data = ('1','2','3','4','5')\n",
        "for i in range(len(data)):\n",
        "  print(data[i])"
      ],
      "execution_count": 1,
      "outputs": [
        {
          "output_type": "stream",
          "name": "stdout",
          "text": [
            "1\n",
            "2\n",
            "3\n",
            "4\n",
            "5\n"
          ]
        }
      ]
    },
    {
      "cell_type": "code",
      "metadata": {
        "colab": {
          "base_uri": "https://localhost:8080/"
        },
        "id": "iao1Efd1ynGa",
        "outputId": "bc0cdd81-5885-4f23-bbf4-81e665a2a7cf"
      },
      "source": [
        "print(\"Keep on typing! Enter 'stop' to Exit\\n\")\n",
        "while True:  \n",
        "  x = input()\n",
        "  if x == 'stop':\n",
        "    break\n",
        "  else:\n",
        "    continue\n",
        "print('and we are out.....')"
      ],
      "execution_count": 5,
      "outputs": [
        {
          "output_type": "stream",
          "name": "stdout",
          "text": [
            "Keep on typing! Enter 'stop' to Exitw\n",
            "\n",
            "hello\n",
            "world\n",
            "you are great\n",
            "stop\n",
            "and we are out.....\n"
          ]
        }
      ]
    },
    {
      "cell_type": "code",
      "metadata": {
        "colab": {
          "base_uri": "https://localhost:8080/"
        },
        "id": "AK1zyk8k5UhD",
        "outputId": "1019f8c9-014b-4875-9354-44b8c53be7bc"
      },
      "source": [
        "data_dictionary = {\n",
        "    'Jack': 40,\n",
        "    'Jill': 32,\n",
        "    'Tom': 4,\n",
        "    'Natalie': 2\n",
        "}\n",
        "\n",
        "for key, value in data_dictionary.items():\n",
        "  print(key,value)"
      ],
      "execution_count": 7,
      "outputs": [
        {
          "output_type": "stream",
          "name": "stdout",
          "text": [
            "Jack 40\n",
            "Jill 32\n",
            "Tom 4\n",
            "Natalie 2\n"
          ]
        }
      ]
    },
    {
      "cell_type": "code",
      "metadata": {
        "colab": {
          "base_uri": "https://localhost:8080/"
        },
        "id": "2tx867PO8oVG",
        "outputId": "c491c247-b4e2-4163-87d7-3f811cd4d4c8"
      },
      "source": [
        "import random\n",
        "\n",
        "target_num = random.randint(1,50)\n",
        "play = 'Y'\n",
        "while play.upper() == 'Y':\n",
        "  print(\"Guess the number!\")\n",
        "  guess = int(input())\n",
        "  if guess < target_num:\n",
        "    print(\"Guess higher\")\n",
        "  elif guess > target_num:\n",
        "    print(\"Guess lower\")\n",
        "  else:\n",
        "    print(f\"The number was {target_num} and you guessed it right!! You win!\")\n",
        "    play = input(\"Do you want to play again Y/N: \")\n",
        "else:\n",
        "  print(\"Game over!\")\n"
      ],
      "execution_count": 15,
      "outputs": [
        {
          "output_type": "stream",
          "name": "stdout",
          "text": [
            "11\n",
            "Guess the number!\n",
            "10\n",
            "Guess higher\n",
            "Guess the number!\n",
            "11\n",
            "The number was 11 and you guessed it right!! You win!\n",
            "Do you want to play again Y/N: y\n",
            "Guess the number!\n",
            "12\n",
            "Guess lower\n",
            "Guess the number!\n",
            "10\n",
            "Guess higher\n",
            "Guess the number!\n",
            "11\n",
            "The number was 11 and you guessed it right!! You win!\n",
            "Do you want to play again Y/N: n\n",
            "Game over!\n"
          ]
        }
      ]
    }
  ]
}